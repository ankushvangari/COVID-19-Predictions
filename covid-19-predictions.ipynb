{
 "cells": [
  {
   "cell_type": "code",
   "execution_count": 71,
   "metadata": {},
   "outputs": [],
   "source": [
    "import numpy as np\n",
    "import matplotlib.pyplot as plt\n",
    "from scipy import stats\n",
    "from numpy import linalg\n",
    "from sklearn.linear_model import LinearRegression\n",
    "from sklearn.preprocessing import FunctionTransformer"
   ]
  },
  {
   "cell_type": "code",
   "execution_count": 72,
   "metadata": {},
   "outputs": [],
   "source": [
    "def func_exp(x, a, b, c):\n",
    "    \"\"\"Return values from a general exponential function.\"\"\"\n",
    "    return a * np.exp(b * x) + c"
   ]
  },
  {
   "cell_type": "code",
   "execution_count": 149,
   "metadata": {
    "scrolled": false
   },
   "outputs": [
    {
     "name": "stdout",
     "output_type": "stream",
     "text": [
      "Day 1 : Italy: 1     ,     US: 28\n",
      "Day 2 : Italy: 2     ,     US: 36\n",
      "Day 3 : Italy: 3     ,     US: 40\n",
      "Day 4 : Italy: 7     ,     US: 47\n",
      "Day 5 : Italy: 10     ,     US: 54\n",
      "Day 6 : Italy: 12     ,     US: 63\n",
      "Day 7 : Italy: 17     ,     US: 85\n",
      "Day 8 : Italy: 21     ,     US: 108\n",
      "Day 9 : Italy: 29     ,     US: 118\n",
      "Day 10 : Italy: 34     ,     US: 200\n",
      "Day 11 : Italy: 52     ,     US: 244\n",
      "Day 12 : Italy: 79     ,     US: 307\n",
      "Day 13 : Italy: 107\n",
      "Day 14 : Italy: 148\n",
      "Day 15 : Italy: 197\n",
      "Day 16 : Italy: 233\n",
      "Day 17 : Italy: 366\n",
      "Day 18 : Italy: 463\n",
      "Day 19 : Italy: 631\n",
      "Day 20 : Italy: 827\n",
      "Day 21 : Italy: 827\n",
      "Day 22 : Italy: 1266\n",
      "Day 23 : Italy: 1441\n",
      "Day 24 : Italy: 1809\n",
      "Day 25 : Italy: 2158\n",
      "Day 26 : Italy: 2503\n",
      "Day 27 : Italy: 2978\n",
      "Day 28 : Italy: 3405\n",
      "Day 29 : Italy: 4032\n",
      "Day 30 : Italy: 4825\n"
     ]
    },
    {
     "data": {
      "image/png": "[encoded data removed]",
      "text/plain": [
       "<Figure size 432x288 with 1 Axes>"
      ]
     },
     "metadata": {
      "needs_background": "light"
     },
     "output_type": "display_data"
    },
    {
     "data": {
      "image/png": "[encoded data removed]",
      "text/plain": [
       "<Figure size 432x288 with 1 Axes>"
      ]
     },
     "metadata": {
      "needs_background": "light"
     },
     "output_type": "display_data"
    },
    {
     "name": "stdout",
     "output_type": "stream",
     "text": [
      "[399.27272727 504.74825175 629.92507493 776.56543457 946.43156843]\n"
     ]
    },
    {
     "data": {
      "image/png": "[encoded data removed]",
      "text/plain": [
       "<Figure size 432x288 with 1 Axes>"
      ]
     },
     "metadata": {
      "needs_background": "light"
     },
     "output_type": "display_data"
    },
    {
     "name": "stdout",
     "output_type": "stream",
     "text": [
      "[ 383.56316671  589.80814102  884.36711132 1281.2061696  1794.29140786]\n"
     ]
    }
   ],
   "source": [
    "trainData = open('COVID-19/csse_covid_19_data/csse_covid_19_time_series/time_series_19-covid-Deaths.csv', 'r')\n",
    "train = {}\n",
    "headers = np.array([x.strip() for x in trainData.readline().split(',')])\n",
    "for line in trainData:\n",
    "    l = np.array([x.strip() for x in line.split(',')])\n",
    "    if l.size is 65:\n",
    "        continue\n",
    "    deaths = np.array(l[4:]).astype(int)\n",
    "    if l[1] in train.keys():\n",
    "        train[l[1]] = train[l[1]] + deaths\n",
    "    else:\n",
    "        train[l[1]] = deaths\n",
    "        \n",
    "for i in range(len(train[\"Italy\"][train[\"Italy\"] != 0])):\n",
    "    print(\"Day\", i+1, \": Italy:\", int(train[\"Italy\"][train[\"Italy\"] != 0][i]), end='')\n",
    "    if i < len(train[\"US\"][train[\"US\"] != 0]):\n",
    "        print(\"     ,     US:\", int(train[\"US\"][train[\"US\"] != 0][i] ), end='')\n",
    "    print('')\n",
    "    \n",
    "italyY = train[\"Italy\"][train[\"Italy\"] != 0] / 60486000 * 10000000\n",
    "usY = train[\"US\"][train[\"US\"] != 0] / 329424000 * 10000000\n",
    "italyX = range(1, 31)\n",
    "usX = range(1, 13)\n",
    "\n",
    "\n",
    "plt.scatter(italyX, italyY)\n",
    "plt.show()\n",
    "\n",
    "\n",
    "plt.scatter(range(1, 13), usY)\n",
    "fit = np.poly1d(np.polyfit(usX, usY, 3))\n",
    "plt.plot(usX, fit(usX), '-')\n",
    "plt.show()\n",
    "\n",
    "print(np.array(fit([13, 14, 15, 16, 17])) * 329424000 / 10000000)\n",
    "\n",
    "combinedX = []\n",
    "for i in range(1, 13):\n",
    "    combinedX.append(i)\n",
    "    combinedX.append(i)\n",
    "    \n",
    "for i in range(13, 31):\n",
    "    combinedX.append(i)\n",
    "combinedY = []\n",
    "for i in range(0, 12):\n",
    "    combinedY.append(italyY[i])\n",
    "    combinedY.append(usY[i])\n",
    "    \n",
    "for i in range(12, 30):\n",
    "    combinedY.append(italyY[i])\n",
    "#plt.scatter(range(1, 13), italyY[:12])\n",
    "plt.scatter(combinedX, combinedY)\n",
    "fit = np.poly1d(np.polyfit(combinedX, combinedY, 3))\n",
    "plt.plot(combinedX, fit(combinedX), '-')\n",
    "plt.show()\n",
    "print(np.array(fit([13, 14, 15, 16, 17])) * 329424000 / 10000000)"
   ]
  },
  {
   "cell_type": "code",
   "execution_count": null,
   "metadata": {},
   "outputs": [],
   "source": []
  }
 ],
 "metadata": {
  "kernelspec": {
   "display_name": "Python 3",
   "language": "python",
   "name": "python3"
  },
  "language_info": {
   "codemirror_mode": {
    "name": "ipython",
    "version": 3
   },
   "file_extension": ".py",
   "mimetype": "text/x-python",
   "name": "python",
   "nbconvert_exporter": "python",
   "pygments_lexer": "ipython3",
   "version": "3.6.9"
  }
 },
 "nbformat": 4,
 "nbformat_minor": 4
}
